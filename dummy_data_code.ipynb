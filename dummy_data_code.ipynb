{
 "cells": [
  {
   "cell_type": "code",
   "execution_count": 14,
   "id": "fb574b84",
   "metadata": {},
   "outputs": [],
   "source": [
    "import pandas as pd\n",
    "import numpy as np\n",
    "import random"
   ]
  },
  {
   "cell_type": "code",
   "execution_count": 15,
   "id": "2c12d19b",
   "metadata": {},
   "outputs": [
    {
     "name": "stdout",
     "output_type": "stream",
     "text": [
      "       HCP_ID       Date    Sales\n",
      "0  9686008838 2021-01-04  2024.06\n",
      "1  9686008838 2021-01-11  3904.38\n",
      "2  9686008838 2021-01-18  3371.85\n",
      "3  9686008838 2021-01-25  1408.85\n",
      "4  9686008838 2021-02-01  4675.00\n"
     ]
    }
   ],
   "source": [
    "np.random.seed(42)\n",
    "\n",
    "def generate_10_digit_code():\n",
    "    # Generate 10 random digits (0-9) as a string\n",
    "    return ''.join(np.random.choice(list('0123456789'), 10))\n",
    "\n",
    "# Generate 100 unique codes\n",
    "hcp_codes = set()\n",
    "while len(hcp_codes) < 100:\n",
    "    code = generate_10_digit_code()\n",
    "    hcp_codes.add(code)\n",
    "\n",
    "hcp_codes = list(hcp_codes)\n",
    "\n",
    "# Generate monthly periods from Jan 2021 to Dec 2023\n",
    "dates = pd.date_range(start='2021-01-01', end='2023-12-31', freq='W-MON')\n",
    "\n",
    "# Build the DataFrame efficiently\n",
    "sales_df = pd.DataFrame(\n",
    "    [(hcp, date, np.round(np.random.uniform(1000, 5000), 2)) for hcp in hcp_codes for date in dates],\n",
    "    columns=['HCP_ID', 'Date', 'Sales']\n",
    ")\n",
    "\n",
    "print(sales_df.head())"
   ]
  },
  {
   "cell_type": "code",
   "execution_count": 16,
   "id": "5a5ff16b",
   "metadata": {},
   "outputs": [
    {
     "name": "stdout",
     "output_type": "stream",
     "text": [
      "       HCP_ID       Date    Calls  Calls Spend\n",
      "0  5783009361 2021-01-04  1649.48       149.13\n",
      "1  5783009361 2021-01-11  4862.21       212.61\n",
      "2  5783009361 2021-01-18  4634.37       264.23\n",
      "3  5783009361 2021-01-25  2543.69       380.37\n",
      "4  5783009361 2021-02-01  1039.53       235.24\n"
     ]
    }
   ],
   "source": [
    "# Randomly select 89 HCP codes from the full list of 100\n",
    "subset_hcps = random.sample(hcp_codes, 89)\n",
    "\n",
    "# Then build calls_df only for this subset\n",
    "calls_df = pd.DataFrame(\n",
    "    [(hcp, date, np.round(np.random.uniform(1000, 5000), 2), np.round(np.random.uniform(100, 500), 2)) for hcp in subset_hcps for date in dates],\n",
    "    columns=['HCP_ID', 'Date', 'Calls', 'Calls Spend']\n",
    ")\n",
    "\n",
    "print(calls_df.head())"
   ]
  },
  {
   "cell_type": "code",
   "execution_count": 17,
   "id": "67b69c74",
   "metadata": {},
   "outputs": [
    {
     "name": "stdout",
     "output_type": "stream",
     "text": [
      "       HCP_ID       Date  Samples  Samples Spend\n",
      "0  2189592771 2021-01-04  4987.65         289.45\n",
      "1  2189592771 2021-01-11  2534.93         321.00\n",
      "2  2189592771 2021-01-18  1659.06         488.51\n",
      "3  2189592771 2021-01-25  4353.34         145.20\n",
      "4  2189592771 2021-02-01  4780.33         477.13\n"
     ]
    }
   ],
   "source": [
    "# Randomly select 89 HCP codes from the full list of 100\n",
    "subset_hcps = random.sample(hcp_codes, 92)\n",
    "\n",
    "# Then build calls_df only for this subset\n",
    "samples_df = pd.DataFrame(\n",
    "    [(hcp, date, np.round(np.random.uniform(1000, 5000), 2), np.round(np.random.uniform(100, 500), 2)) for hcp in subset_hcps for date in dates],\n",
    "    columns=['HCP_ID', 'Date', 'Samples', 'Samples Spend']\n",
    ")\n",
    "\n",
    "print(samples_df.head())"
   ]
  },
  {
   "cell_type": "code",
   "execution_count": 18,
   "id": "d5a969c6",
   "metadata": {},
   "outputs": [
    {
     "name": "stdout",
     "output_type": "stream",
     "text": [
      "       HCP_ID       Date    Print  Print Spend\n",
      "0  3772541751 2021-01-04  4610.69       497.56\n",
      "1  3772541751 2021-01-11  4977.71       275.38\n",
      "2  3772541751 2021-01-18  1957.17       168.81\n",
      "3  3772541751 2021-01-25  2528.44       339.58\n",
      "4  3772541751 2021-02-01  3974.35       306.55\n"
     ]
    }
   ],
   "source": [
    "# Randomly select 90 HCP codes from the full list of 100\n",
    "subset_hcps = random.sample(hcp_codes, 90)\n",
    "\n",
    "# Then build calls_df only for this subset\n",
    "print_df = pd.DataFrame(\n",
    "    [(hcp, date, np.round(np.random.uniform(1000, 5000), 2), np.round(np.random.uniform(100, 500), 2)) for hcp in subset_hcps for date in dates],\n",
    "    columns=['HCP_ID', 'Date', 'Print', 'Print Spend']\n",
    ")\n",
    "\n",
    "print(print_df.head())"
   ]
  },
  {
   "cell_type": "code",
   "execution_count": 19,
   "id": "27ef1aa0",
   "metadata": {},
   "outputs": [],
   "source": [
    "sales_df.to_csv(r'dummy_data/sales_data_dummy.csv')\n",
    "calls_df.to_csv(r'dummy_data/calls_data_dummy.csv')\n",
    "samples_df.to_csv(r'dummy_data/samples_data_dummy.csv')\n",
    "print_df.to_csv(r'dummy_data/print_data_dummy.csv')"
   ]
  }
 ],
 "metadata": {
  "kernelspec": {
   "display_name": "Python 3",
   "language": "python",
   "name": "python3"
  },
  "language_info": {
   "codemirror_mode": {
    "name": "ipython",
    "version": 3
   },
   "file_extension": ".py",
   "mimetype": "text/x-python",
   "name": "python",
   "nbconvert_exporter": "python",
   "pygments_lexer": "ipython3",
   "version": "3.13.3"
  }
 },
 "nbformat": 4,
 "nbformat_minor": 5
}
